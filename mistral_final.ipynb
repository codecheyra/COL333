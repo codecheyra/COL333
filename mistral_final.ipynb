{
  "nbformat": 4,
  "nbformat_minor": 0,
  "metadata": {
    "colab": {
      "provenance": [],
      "authorship_tag": "ABX9TyOUBT/rHl+yb+6+thASYHqF",
      "include_colab_link": true
    },
    "kernelspec": {
      "name": "python3",
      "display_name": "Python 3"
    },
    "language_info": {
      "name": "python"
    }
  },
  "cells": [
    {
      "cell_type": "markdown",
      "metadata": {
        "id": "view-in-github",
        "colab_type": "text"
      },
      "source": [
        "<a href=\"https://colab.research.google.com/github/codecheyra/COL333_HIDDEN-ORGS-FINDER/blob/main/mistral_final.ipynb\" target=\"_parent\"><img src=\"https://colab.research.google.com/assets/colab-badge.svg\" alt=\"Open In Colab\"/></a>"
      ]
    },
    {
      "cell_type": "code",
      "execution_count": null,
      "metadata": {
        "id": "E4s_dynUoJqf",
        "colab": {
          "base_uri": "https://localhost:8080/"
        },
        "outputId": "296d237e-f22b-469f-a2ad-78b8f3c83cdc"
      },
      "outputs": [
        {
          "output_type": "stream",
          "name": "stdout",
          "text": [
            "File downloaded and saved as 'mistral-7b-instruct-v0.1.Q2_K.gguf'\n"
          ]
        }
      ],
      "source": [
        "import requests\n",
        "\n",
        "# URL of the file to be downloaded\n",
        "url = 'https://cdn-lfs.huggingface.co/repos/46/12/46124cd8d4788fd8e0879883abfc473f247664b987955cc98a08658f7df6b826/f27558927c82a62367ba29337af784d7502682c0fe01b2ca2a369fdaeaa61ea4?response-content-disposition=attachment%3B+filename*%3DUTF-8%27%27mistral-7b-instruct-v0.1.Q2_K.gguf%3B+filename%3D%22mistral-7b-instruct-v0.1.Q2_K.gguf%22%3B&Expires=1716742232&Policy=eyJTdGF0ZW1lbnQiOlt7IkNvbmRpdGlvbiI6eyJEYXRlTGVzc1RoYW4iOnsiQVdTOkVwb2NoVGltZSI6MTcxNjc0MjIzMn19LCJSZXNvdXJjZSI6Imh0dHBzOi8vY2RuLWxmcy5odWdnaW5nZmFjZS5jby9yZXBvcy80Ni8xMi80NjEyNGNkOGQ0Nzg4ZmQ4ZTA4Nzk4ODNhYmZjNDczZjI0NzY2NGI5ODc5NTVjYzk4YTA4NjU4ZjdkZjZiODI2L2YyNzU1ODkyN2M4MmE2MjM2N2JhMjkzMzdhZjc4NGQ3NTAyNjgyYzBmZTAxYjJjYTJhMzY5ZmRhZWFhNjFlYTQ%7EcmVzcG9uc2UtY29udGVudC1kaXNwb3NpdGlvbj0qIn1dfQ__&Signature=W-3Wva8jW-t1AI3KkdPyQ0b7QI2YtdGHsO%7ESxv%7E9r9CAeWYtECaVv2DQ2H77jncBGd2FCQCBD3bPvt4TsySCmqi8nSI%7EDU6sOkP7CvC4KAvpYbMGPhtujcRXnzYTgXlhphMHIoKONVzlWmmolGmtH-TLdvCCxHWChAWBLGAPd9X7pGM9Zg2dSfujb3GiC-aM0shcm5FoU7WhLBhC6Usodz5l5fs7GHKyvw7F-VnYJwMSdY3TSyVNAWoGL84wv4qwqcBzLlmX%7Eff0nTh2yayq%7Elna%7E6kU6f3dajIKecfRofI0kR3%7ED87JLsj6tNfGGsU8j0yzgpzMC6yjhsmiT1E-3A__&Key-Pair-Id=KVTP0A1DKRTAX'\n",
        "\n",
        "# Download the file\n",
        "response = requests.get(url)\n",
        "\n",
        "# Save the file\n",
        "with open('mistral-7b-instruct-v0.1.Q2_K.gguf', 'wb') as file:\n",
        "    file.write(response.content)\n",
        "\n",
        "print(\"File downloaded and saved as 'mistral-7b-instruct-v0.1.Q2_K.gguf'\")\n"
      ]
    },
    {
      "cell_type": "code",
      "source": [
        "!unzip /content/Question-Answer-Generation-App-using-Mistral-7B-main.zip"
      ],
      "metadata": {
        "colab": {
          "base_uri": "https://localhost:8080/"
        },
        "id": "VEuJGJOKa_wJ",
        "outputId": "dcf7813c-b4c4-41ae-fbad-b0be6a90c3f8"
      },
      "execution_count": null,
      "outputs": [
        {
          "output_type": "stream",
          "name": "stdout",
          "text": [
            "Archive:  /content/Question-Answer-Generation-App-using-Mistral-7B-main.zip\n",
            "replace __MACOSX/._Question-Answer-Generation-App-using-Mistral-7B-main? [y]es, [n]o, [A]ll, [N]one, [r]ename: "
          ]
        }
      ]
    },
    {
      "cell_type": "code",
      "source": [
        "!pip install -r /content/Question-Answer-Generation-App-using-Mistral-7B-main/requirements.txt"
      ],
      "metadata": {
        "colab": {
          "base_uri": "https://localhost:8080/"
        },
        "id": "9Bb1tExMbD4d",
        "outputId": "8df5742e-7177-4791-9c07-743ff47da943"
      },
      "execution_count": null,
      "outputs": [
        {
          "output_type": "stream",
          "name": "stdout",
          "text": [
            "Requirement already satisfied: langchain in /usr/local/lib/python3.10/dist-packages (from -r /content/Question-Answer-Generation-App-using-Mistral-7B-main/requirements.txt (line 1)) (0.2.1)\n",
            "Requirement already satisfied: CTransformers in /usr/local/lib/python3.10/dist-packages (from -r /content/Question-Answer-Generation-App-using-Mistral-7B-main/requirements.txt (line 2)) (0.2.27)\n",
            "Requirement already satisfied: sentence_transformers in /usr/local/lib/python3.10/dist-packages (from -r /content/Question-Answer-Generation-App-using-Mistral-7B-main/requirements.txt (line 3)) (2.7.0)\n",
            "Requirement already satisfied: chromadb in /usr/local/lib/python3.10/dist-packages (from -r /content/Question-Answer-Generation-App-using-Mistral-7B-main/requirements.txt (line 4)) (0.5.0)\n",
            "Requirement already satisfied: pypdf in /usr/local/lib/python3.10/dist-packages (from -r /content/Question-Answer-Generation-App-using-Mistral-7B-main/requirements.txt (line 5)) (4.2.0)\n",
            "Requirement already satisfied: streamlit in /usr/local/lib/python3.10/dist-packages (from -r /content/Question-Answer-Generation-App-using-Mistral-7B-main/requirements.txt (line 6)) (1.35.0)\n",
            "Requirement already satisfied: fastapi in /usr/local/lib/python3.10/dist-packages (from -r /content/Question-Answer-Generation-App-using-Mistral-7B-main/requirements.txt (line 7)) (0.111.0)\n",
            "Requirement already satisfied: jinja2 in /usr/local/lib/python3.10/dist-packages (from -r /content/Question-Answer-Generation-App-using-Mistral-7B-main/requirements.txt (line 8)) (3.1.4)\n",
            "Requirement already satisfied: aiofiles in /usr/local/lib/python3.10/dist-packages (from -r /content/Question-Answer-Generation-App-using-Mistral-7B-main/requirements.txt (line 9)) (23.2.1)\n",
            "Requirement already satisfied: PyPDF2 in /usr/local/lib/python3.10/dist-packages (from -r /content/Question-Answer-Generation-App-using-Mistral-7B-main/requirements.txt (line 10)) (3.0.1)\n",
            "Requirement already satisfied: python-multipart in /usr/local/lib/python3.10/dist-packages (from -r /content/Question-Answer-Generation-App-using-Mistral-7B-main/requirements.txt (line 11)) (0.0.9)\n",
            "Requirement already satisfied: faiss-cpu in /usr/local/lib/python3.10/dist-packages (from -r /content/Question-Answer-Generation-App-using-Mistral-7B-main/requirements.txt (line 12)) (1.8.0)\n",
            "Requirement already satisfied: PyYAML>=5.3 in /usr/local/lib/python3.10/dist-packages (from langchain->-r /content/Question-Answer-Generation-App-using-Mistral-7B-main/requirements.txt (line 1)) (6.0.1)\n",
            "Requirement already satisfied: SQLAlchemy<3,>=1.4 in /usr/local/lib/python3.10/dist-packages (from langchain->-r /content/Question-Answer-Generation-App-using-Mistral-7B-main/requirements.txt (line 1)) (2.0.30)\n",
            "Requirement already satisfied: aiohttp<4.0.0,>=3.8.3 in /usr/local/lib/python3.10/dist-packages (from langchain->-r /content/Question-Answer-Generation-App-using-Mistral-7B-main/requirements.txt (line 1)) (3.9.5)\n",
            "Requirement already satisfied: async-timeout<5.0.0,>=4.0.0 in /usr/local/lib/python3.10/dist-packages (from langchain->-r /content/Question-Answer-Generation-App-using-Mistral-7B-main/requirements.txt (line 1)) (4.0.3)\n",
            "Requirement already satisfied: langchain-core<0.3.0,>=0.2.0 in /usr/local/lib/python3.10/dist-packages (from langchain->-r /content/Question-Answer-Generation-App-using-Mistral-7B-main/requirements.txt (line 1)) (0.2.1)\n",
            "Requirement already satisfied: langchain-text-splitters<0.3.0,>=0.2.0 in /usr/local/lib/python3.10/dist-packages (from langchain->-r /content/Question-Answer-Generation-App-using-Mistral-7B-main/requirements.txt (line 1)) (0.2.0)\n",
            "Requirement already satisfied: langsmith<0.2.0,>=0.1.17 in /usr/local/lib/python3.10/dist-packages (from langchain->-r /content/Question-Answer-Generation-App-using-Mistral-7B-main/requirements.txt (line 1)) (0.1.63)\n",
            "Requirement already satisfied: numpy<2,>=1 in /usr/local/lib/python3.10/dist-packages (from langchain->-r /content/Question-Answer-Generation-App-using-Mistral-7B-main/requirements.txt (line 1)) (1.25.2)\n",
            "Requirement already satisfied: pydantic<3,>=1 in /usr/local/lib/python3.10/dist-packages (from langchain->-r /content/Question-Answer-Generation-App-using-Mistral-7B-main/requirements.txt (line 1)) (2.7.1)\n",
            "Requirement already satisfied: requests<3,>=2 in /usr/local/lib/python3.10/dist-packages (from langchain->-r /content/Question-Answer-Generation-App-using-Mistral-7B-main/requirements.txt (line 1)) (2.31.0)\n",
            "Requirement already satisfied: tenacity<9.0.0,>=8.1.0 in /usr/local/lib/python3.10/dist-packages (from langchain->-r /content/Question-Answer-Generation-App-using-Mistral-7B-main/requirements.txt (line 1)) (8.3.0)\n",
            "Requirement already satisfied: huggingface-hub in /usr/local/lib/python3.10/dist-packages (from CTransformers->-r /content/Question-Answer-Generation-App-using-Mistral-7B-main/requirements.txt (line 2)) (0.23.1)\n",
            "Requirement already satisfied: py-cpuinfo<10.0.0,>=9.0.0 in /usr/local/lib/python3.10/dist-packages (from CTransformers->-r /content/Question-Answer-Generation-App-using-Mistral-7B-main/requirements.txt (line 2)) (9.0.0)\n",
            "Requirement already satisfied: transformers<5.0.0,>=4.34.0 in /usr/local/lib/python3.10/dist-packages (from sentence_transformers->-r /content/Question-Answer-Generation-App-using-Mistral-7B-main/requirements.txt (line 3)) (4.41.0)\n",
            "Requirement already satisfied: tqdm in /usr/local/lib/python3.10/dist-packages (from sentence_transformers->-r /content/Question-Answer-Generation-App-using-Mistral-7B-main/requirements.txt (line 3)) (4.66.4)\n",
            "Requirement already satisfied: torch>=1.11.0 in /usr/local/lib/python3.10/dist-packages (from sentence_transformers->-r /content/Question-Answer-Generation-App-using-Mistral-7B-main/requirements.txt (line 3)) (2.3.0+cu121)\n",
            "Requirement already satisfied: scikit-learn in /usr/local/lib/python3.10/dist-packages (from sentence_transformers->-r /content/Question-Answer-Generation-App-using-Mistral-7B-main/requirements.txt (line 3)) (1.2.2)\n",
            "Requirement already satisfied: scipy in /usr/local/lib/python3.10/dist-packages (from sentence_transformers->-r /content/Question-Answer-Generation-App-using-Mistral-7B-main/requirements.txt (line 3)) (1.11.4)\n",
            "Requirement already satisfied: Pillow in /usr/local/lib/python3.10/dist-packages (from sentence_transformers->-r /content/Question-Answer-Generation-App-using-Mistral-7B-main/requirements.txt (line 3)) (9.4.0)\n",
            "Requirement already satisfied: build>=1.0.3 in /usr/local/lib/python3.10/dist-packages (from chromadb->-r /content/Question-Answer-Generation-App-using-Mistral-7B-main/requirements.txt (line 4)) (1.2.1)\n",
            "Requirement already satisfied: chroma-hnswlib==0.7.3 in /usr/local/lib/python3.10/dist-packages (from chromadb->-r /content/Question-Answer-Generation-App-using-Mistral-7B-main/requirements.txt (line 4)) (0.7.3)\n",
            "Requirement already satisfied: uvicorn[standard]>=0.18.3 in /usr/local/lib/python3.10/dist-packages (from chromadb->-r /content/Question-Answer-Generation-App-using-Mistral-7B-main/requirements.txt (line 4)) (0.29.0)\n",
            "Requirement already satisfied: posthog>=2.4.0 in /usr/local/lib/python3.10/dist-packages (from chromadb->-r /content/Question-Answer-Generation-App-using-Mistral-7B-main/requirements.txt (line 4)) (3.5.0)\n",
            "Requirement already satisfied: typing-extensions>=4.5.0 in /usr/local/lib/python3.10/dist-packages (from chromadb->-r /content/Question-Answer-Generation-App-using-Mistral-7B-main/requirements.txt (line 4)) (4.11.0)\n",
            "Requirement already satisfied: onnxruntime>=1.14.1 in /usr/local/lib/python3.10/dist-packages (from chromadb->-r /content/Question-Answer-Generation-App-using-Mistral-7B-main/requirements.txt (line 4)) (1.18.0)\n",
            "Requirement already satisfied: opentelemetry-api>=1.2.0 in /usr/local/lib/python3.10/dist-packages (from chromadb->-r /content/Question-Answer-Generation-App-using-Mistral-7B-main/requirements.txt (line 4)) (1.24.0)\n",
            "Requirement already satisfied: opentelemetry-exporter-otlp-proto-grpc>=1.2.0 in /usr/local/lib/python3.10/dist-packages (from chromadb->-r /content/Question-Answer-Generation-App-using-Mistral-7B-main/requirements.txt (line 4)) (1.24.0)\n",
            "Requirement already satisfied: opentelemetry-instrumentation-fastapi>=0.41b0 in /usr/local/lib/python3.10/dist-packages (from chromadb->-r /content/Question-Answer-Generation-App-using-Mistral-7B-main/requirements.txt (line 4)) (0.45b0)\n",
            "Requirement already satisfied: opentelemetry-sdk>=1.2.0 in /usr/local/lib/python3.10/dist-packages (from chromadb->-r /content/Question-Answer-Generation-App-using-Mistral-7B-main/requirements.txt (line 4)) (1.24.0)\n",
            "Requirement already satisfied: tokenizers>=0.13.2 in /usr/local/lib/python3.10/dist-packages (from chromadb->-r /content/Question-Answer-Generation-App-using-Mistral-7B-main/requirements.txt (line 4)) (0.19.1)\n",
            "Requirement already satisfied: pypika>=0.48.9 in /usr/local/lib/python3.10/dist-packages (from chromadb->-r /content/Question-Answer-Generation-App-using-Mistral-7B-main/requirements.txt (line 4)) (0.48.9)\n",
            "Requirement already satisfied: overrides>=7.3.1 in /usr/local/lib/python3.10/dist-packages (from chromadb->-r /content/Question-Answer-Generation-App-using-Mistral-7B-main/requirements.txt (line 4)) (7.7.0)\n",
            "Requirement already satisfied: importlib-resources in /usr/local/lib/python3.10/dist-packages (from chromadb->-r /content/Question-Answer-Generation-App-using-Mistral-7B-main/requirements.txt (line 4)) (6.4.0)\n",
            "Requirement already satisfied: grpcio>=1.58.0 in /usr/local/lib/python3.10/dist-packages (from chromadb->-r /content/Question-Answer-Generation-App-using-Mistral-7B-main/requirements.txt (line 4)) (1.64.0)\n",
            "Requirement already satisfied: bcrypt>=4.0.1 in /usr/local/lib/python3.10/dist-packages (from chromadb->-r /content/Question-Answer-Generation-App-using-Mistral-7B-main/requirements.txt (line 4)) (4.1.3)\n",
            "Requirement already satisfied: typer>=0.9.0 in /usr/local/lib/python3.10/dist-packages (from chromadb->-r /content/Question-Answer-Generation-App-using-Mistral-7B-main/requirements.txt (line 4)) (0.12.3)\n",
            "Requirement already satisfied: kubernetes>=28.1.0 in /usr/local/lib/python3.10/dist-packages (from chromadb->-r /content/Question-Answer-Generation-App-using-Mistral-7B-main/requirements.txt (line 4)) (29.0.0)\n",
            "Requirement already satisfied: mmh3>=4.0.1 in /usr/local/lib/python3.10/dist-packages (from chromadb->-r /content/Question-Answer-Generation-App-using-Mistral-7B-main/requirements.txt (line 4)) (4.1.0)\n",
            "Requirement already satisfied: orjson>=3.9.12 in /usr/local/lib/python3.10/dist-packages (from chromadb->-r /content/Question-Answer-Generation-App-using-Mistral-7B-main/requirements.txt (line 4)) (3.10.3)\n",
            "Requirement already satisfied: altair<6,>=4.0 in /usr/local/lib/python3.10/dist-packages (from streamlit->-r /content/Question-Answer-Generation-App-using-Mistral-7B-main/requirements.txt (line 6)) (4.2.2)\n",
            "Requirement already satisfied: blinker<2,>=1.0.0 in /usr/lib/python3/dist-packages (from streamlit->-r /content/Question-Answer-Generation-App-using-Mistral-7B-main/requirements.txt (line 6)) (1.4)\n",
            "Requirement already satisfied: cachetools<6,>=4.0 in /usr/local/lib/python3.10/dist-packages (from streamlit->-r /content/Question-Answer-Generation-App-using-Mistral-7B-main/requirements.txt (line 6)) (5.3.3)\n",
            "Requirement already satisfied: click<9,>=7.0 in /usr/local/lib/python3.10/dist-packages (from streamlit->-r /content/Question-Answer-Generation-App-using-Mistral-7B-main/requirements.txt (line 6)) (8.1.7)\n",
            "Requirement already satisfied: packaging<25,>=16.8 in /usr/local/lib/python3.10/dist-packages (from streamlit->-r /content/Question-Answer-Generation-App-using-Mistral-7B-main/requirements.txt (line 6)) (23.2)\n",
            "Requirement already satisfied: pandas<3,>=1.3.0 in /usr/local/lib/python3.10/dist-packages (from streamlit->-r /content/Question-Answer-Generation-App-using-Mistral-7B-main/requirements.txt (line 6)) (2.0.3)\n",
            "Requirement already satisfied: protobuf<5,>=3.20 in /usr/local/lib/python3.10/dist-packages (from streamlit->-r /content/Question-Answer-Generation-App-using-Mistral-7B-main/requirements.txt (line 6)) (3.20.3)\n",
            "Requirement already satisfied: pyarrow>=7.0 in /usr/local/lib/python3.10/dist-packages (from streamlit->-r /content/Question-Answer-Generation-App-using-Mistral-7B-main/requirements.txt (line 6)) (14.0.2)\n",
            "Requirement already satisfied: rich<14,>=10.14.0 in /usr/local/lib/python3.10/dist-packages (from streamlit->-r /content/Question-Answer-Generation-App-using-Mistral-7B-main/requirements.txt (line 6)) (13.7.1)\n",
            "Requirement already satisfied: toml<2,>=0.10.1 in /usr/local/lib/python3.10/dist-packages (from streamlit->-r /content/Question-Answer-Generation-App-using-Mistral-7B-main/requirements.txt (line 6)) (0.10.2)\n",
            "Requirement already satisfied: gitpython!=3.1.19,<4,>=3.0.7 in /usr/local/lib/python3.10/dist-packages (from streamlit->-r /content/Question-Answer-Generation-App-using-Mistral-7B-main/requirements.txt (line 6)) (3.1.43)\n",
            "Requirement already satisfied: pydeck<1,>=0.8.0b4 in /usr/local/lib/python3.10/dist-packages (from streamlit->-r /content/Question-Answer-Generation-App-using-Mistral-7B-main/requirements.txt (line 6)) (0.9.1)\n",
            "Requirement already satisfied: tornado<7,>=6.0.3 in /usr/local/lib/python3.10/dist-packages (from streamlit->-r /content/Question-Answer-Generation-App-using-Mistral-7B-main/requirements.txt (line 6)) (6.3.3)\n",
            "Requirement already satisfied: watchdog>=2.1.5 in /usr/local/lib/python3.10/dist-packages (from streamlit->-r /content/Question-Answer-Generation-App-using-Mistral-7B-main/requirements.txt (line 6)) (4.0.1)\n",
            "Requirement already satisfied: starlette<0.38.0,>=0.37.2 in /usr/local/lib/python3.10/dist-packages (from fastapi->-r /content/Question-Answer-Generation-App-using-Mistral-7B-main/requirements.txt (line 7)) (0.37.2)\n",
            "Requirement already satisfied: fastapi-cli>=0.0.2 in /usr/local/lib/python3.10/dist-packages (from fastapi->-r /content/Question-Answer-Generation-App-using-Mistral-7B-main/requirements.txt (line 7)) (0.0.4)\n",
            "Requirement already satisfied: httpx>=0.23.0 in /usr/local/lib/python3.10/dist-packages (from fastapi->-r /content/Question-Answer-Generation-App-using-Mistral-7B-main/requirements.txt (line 7)) (0.27.0)\n",
            "Requirement already satisfied: ujson!=4.0.2,!=4.1.0,!=4.2.0,!=4.3.0,!=5.0.0,!=5.1.0,>=4.0.1 in /usr/local/lib/python3.10/dist-packages (from fastapi->-r /content/Question-Answer-Generation-App-using-Mistral-7B-main/requirements.txt (line 7)) (5.10.0)\n",
            "Requirement already satisfied: email_validator>=2.0.0 in /usr/local/lib/python3.10/dist-packages (from fastapi->-r /content/Question-Answer-Generation-App-using-Mistral-7B-main/requirements.txt (line 7)) (2.1.1)\n",
            "Requirement already satisfied: MarkupSafe>=2.0 in /usr/local/lib/python3.10/dist-packages (from jinja2->-r /content/Question-Answer-Generation-App-using-Mistral-7B-main/requirements.txt (line 8)) (2.1.5)\n",
            "Requirement already satisfied: aiosignal>=1.1.2 in /usr/local/lib/python3.10/dist-packages (from aiohttp<4.0.0,>=3.8.3->langchain->-r /content/Question-Answer-Generation-App-using-Mistral-7B-main/requirements.txt (line 1)) (1.3.1)\n",
            "Requirement already satisfied: attrs>=17.3.0 in /usr/local/lib/python3.10/dist-packages (from aiohttp<4.0.0,>=3.8.3->langchain->-r /content/Question-Answer-Generation-App-using-Mistral-7B-main/requirements.txt (line 1)) (23.2.0)\n",
            "Requirement already satisfied: frozenlist>=1.1.1 in /usr/local/lib/python3.10/dist-packages (from aiohttp<4.0.0,>=3.8.3->langchain->-r /content/Question-Answer-Generation-App-using-Mistral-7B-main/requirements.txt (line 1)) (1.4.1)\n",
            "Requirement already satisfied: multidict<7.0,>=4.5 in /usr/local/lib/python3.10/dist-packages (from aiohttp<4.0.0,>=3.8.3->langchain->-r /content/Question-Answer-Generation-App-using-Mistral-7B-main/requirements.txt (line 1)) (6.0.5)\n",
            "Requirement already satisfied: yarl<2.0,>=1.0 in /usr/local/lib/python3.10/dist-packages (from aiohttp<4.0.0,>=3.8.3->langchain->-r /content/Question-Answer-Generation-App-using-Mistral-7B-main/requirements.txt (line 1)) (1.9.4)\n",
            "Requirement already satisfied: entrypoints in /usr/local/lib/python3.10/dist-packages (from altair<6,>=4.0->streamlit->-r /content/Question-Answer-Generation-App-using-Mistral-7B-main/requirements.txt (line 6)) (0.4)\n",
            "Requirement already satisfied: jsonschema>=3.0 in /usr/local/lib/python3.10/dist-packages (from altair<6,>=4.0->streamlit->-r /content/Question-Answer-Generation-App-using-Mistral-7B-main/requirements.txt (line 6)) (4.19.2)\n",
            "Requirement already satisfied: toolz in /usr/local/lib/python3.10/dist-packages (from altair<6,>=4.0->streamlit->-r /content/Question-Answer-Generation-App-using-Mistral-7B-main/requirements.txt (line 6)) (0.12.1)\n",
            "Requirement already satisfied: pyproject_hooks in /usr/local/lib/python3.10/dist-packages (from build>=1.0.3->chromadb->-r /content/Question-Answer-Generation-App-using-Mistral-7B-main/requirements.txt (line 4)) (1.1.0)\n",
            "Requirement already satisfied: tomli>=1.1.0 in /usr/local/lib/python3.10/dist-packages (from build>=1.0.3->chromadb->-r /content/Question-Answer-Generation-App-using-Mistral-7B-main/requirements.txt (line 4)) (2.0.1)\n",
            "Requirement already satisfied: dnspython>=2.0.0 in /usr/local/lib/python3.10/dist-packages (from email_validator>=2.0.0->fastapi->-r /content/Question-Answer-Generation-App-using-Mistral-7B-main/requirements.txt (line 7)) (2.6.1)\n",
            "Requirement already satisfied: idna>=2.0.0 in /usr/local/lib/python3.10/dist-packages (from email_validator>=2.0.0->fastapi->-r /content/Question-Answer-Generation-App-using-Mistral-7B-main/requirements.txt (line 7)) (3.7)\n",
            "Requirement already satisfied: gitdb<5,>=4.0.1 in /usr/local/lib/python3.10/dist-packages (from gitpython!=3.1.19,<4,>=3.0.7->streamlit->-r /content/Question-Answer-Generation-App-using-Mistral-7B-main/requirements.txt (line 6)) (4.0.11)\n",
            "Requirement already satisfied: anyio in /usr/local/lib/python3.10/dist-packages (from httpx>=0.23.0->fastapi->-r /content/Question-Answer-Generation-App-using-Mistral-7B-main/requirements.txt (line 7)) (3.7.1)\n",
            "Requirement already satisfied: certifi in /usr/local/lib/python3.10/dist-packages (from httpx>=0.23.0->fastapi->-r /content/Question-Answer-Generation-App-using-Mistral-7B-main/requirements.txt (line 7)) (2024.2.2)\n",
            "Requirement already satisfied: httpcore==1.* in /usr/local/lib/python3.10/dist-packages (from httpx>=0.23.0->fastapi->-r /content/Question-Answer-Generation-App-using-Mistral-7B-main/requirements.txt (line 7)) (1.0.5)\n",
            "Requirement already satisfied: sniffio in /usr/local/lib/python3.10/dist-packages (from httpx>=0.23.0->fastapi->-r /content/Question-Answer-Generation-App-using-Mistral-7B-main/requirements.txt (line 7)) (1.3.1)\n",
            "Requirement already satisfied: h11<0.15,>=0.13 in /usr/local/lib/python3.10/dist-packages (from httpcore==1.*->httpx>=0.23.0->fastapi->-r /content/Question-Answer-Generation-App-using-Mistral-7B-main/requirements.txt (line 7)) (0.14.0)\n",
            "Requirement already satisfied: filelock in /usr/local/lib/python3.10/dist-packages (from huggingface-hub->CTransformers->-r /content/Question-Answer-Generation-App-using-Mistral-7B-main/requirements.txt (line 2)) (3.14.0)\n",
            "Requirement already satisfied: fsspec>=2023.5.0 in /usr/local/lib/python3.10/dist-packages (from huggingface-hub->CTransformers->-r /content/Question-Answer-Generation-App-using-Mistral-7B-main/requirements.txt (line 2)) (2023.6.0)\n",
            "Requirement already satisfied: six>=1.9.0 in /usr/local/lib/python3.10/dist-packages (from kubernetes>=28.1.0->chromadb->-r /content/Question-Answer-Generation-App-using-Mistral-7B-main/requirements.txt (line 4)) (1.16.0)\n",
            "Requirement already satisfied: python-dateutil>=2.5.3 in /usr/local/lib/python3.10/dist-packages (from kubernetes>=28.1.0->chromadb->-r /content/Question-Answer-Generation-App-using-Mistral-7B-main/requirements.txt (line 4)) (2.8.2)\n",
            "Requirement already satisfied: google-auth>=1.0.1 in /usr/local/lib/python3.10/dist-packages (from kubernetes>=28.1.0->chromadb->-r /content/Question-Answer-Generation-App-using-Mistral-7B-main/requirements.txt (line 4)) (2.27.0)\n",
            "Requirement already satisfied: websocket-client!=0.40.0,!=0.41.*,!=0.42.*,>=0.32.0 in /usr/local/lib/python3.10/dist-packages (from kubernetes>=28.1.0->chromadb->-r /content/Question-Answer-Generation-App-using-Mistral-7B-main/requirements.txt (line 4)) (1.8.0)\n",
            "Requirement already satisfied: requests-oauthlib in /usr/local/lib/python3.10/dist-packages (from kubernetes>=28.1.0->chromadb->-r /content/Question-Answer-Generation-App-using-Mistral-7B-main/requirements.txt (line 4)) (1.3.1)\n",
            "Requirement already satisfied: oauthlib>=3.2.2 in /usr/local/lib/python3.10/dist-packages (from kubernetes>=28.1.0->chromadb->-r /content/Question-Answer-Generation-App-using-Mistral-7B-main/requirements.txt (line 4)) (3.2.2)\n",
            "Requirement already satisfied: urllib3>=1.24.2 in /usr/local/lib/python3.10/dist-packages (from kubernetes>=28.1.0->chromadb->-r /content/Question-Answer-Generation-App-using-Mistral-7B-main/requirements.txt (line 4)) (2.0.7)\n",
            "Requirement already satisfied: jsonpatch<2.0,>=1.33 in /usr/local/lib/python3.10/dist-packages (from langchain-core<0.3.0,>=0.2.0->langchain->-r /content/Question-Answer-Generation-App-using-Mistral-7B-main/requirements.txt (line 1)) (1.33)\n",
            "Requirement already satisfied: coloredlogs in /usr/local/lib/python3.10/dist-packages (from onnxruntime>=1.14.1->chromadb->-r /content/Question-Answer-Generation-App-using-Mistral-7B-main/requirements.txt (line 4)) (15.0.1)\n",
            "Requirement already satisfied: flatbuffers in /usr/local/lib/python3.10/dist-packages (from onnxruntime>=1.14.1->chromadb->-r /content/Question-Answer-Generation-App-using-Mistral-7B-main/requirements.txt (line 4)) (24.3.25)\n",
            "Requirement already satisfied: sympy in /usr/local/lib/python3.10/dist-packages (from onnxruntime>=1.14.1->chromadb->-r /content/Question-Answer-Generation-App-using-Mistral-7B-main/requirements.txt (line 4)) (1.12)\n",
            "Requirement already satisfied: deprecated>=1.2.6 in /usr/local/lib/python3.10/dist-packages (from opentelemetry-api>=1.2.0->chromadb->-r /content/Question-Answer-Generation-App-using-Mistral-7B-main/requirements.txt (line 4)) (1.2.14)\n",
            "Requirement already satisfied: importlib-metadata<=7.0,>=6.0 in /usr/local/lib/python3.10/dist-packages (from opentelemetry-api>=1.2.0->chromadb->-r /content/Question-Answer-Generation-App-using-Mistral-7B-main/requirements.txt (line 4)) (7.0.0)\n",
            "Requirement already satisfied: googleapis-common-protos~=1.52 in /usr/local/lib/python3.10/dist-packages (from opentelemetry-exporter-otlp-proto-grpc>=1.2.0->chromadb->-r /content/Question-Answer-Generation-App-using-Mistral-7B-main/requirements.txt (line 4)) (1.63.0)\n",
            "Requirement already satisfied: opentelemetry-exporter-otlp-proto-common==1.24.0 in /usr/local/lib/python3.10/dist-packages (from opentelemetry-exporter-otlp-proto-grpc>=1.2.0->chromadb->-r /content/Question-Answer-Generation-App-using-Mistral-7B-main/requirements.txt (line 4)) (1.24.0)\n",
            "Requirement already satisfied: opentelemetry-proto==1.24.0 in /usr/local/lib/python3.10/dist-packages (from opentelemetry-exporter-otlp-proto-grpc>=1.2.0->chromadb->-r /content/Question-Answer-Generation-App-using-Mistral-7B-main/requirements.txt (line 4)) (1.24.0)\n",
            "Requirement already satisfied: opentelemetry-instrumentation-asgi==0.45b0 in /usr/local/lib/python3.10/dist-packages (from opentelemetry-instrumentation-fastapi>=0.41b0->chromadb->-r /content/Question-Answer-Generation-App-using-Mistral-7B-main/requirements.txt (line 4)) (0.45b0)\n",
            "Requirement already satisfied: opentelemetry-instrumentation==0.45b0 in /usr/local/lib/python3.10/dist-packages (from opentelemetry-instrumentation-fastapi>=0.41b0->chromadb->-r /content/Question-Answer-Generation-App-using-Mistral-7B-main/requirements.txt (line 4)) (0.45b0)\n",
            "Requirement already satisfied: opentelemetry-semantic-conventions==0.45b0 in /usr/local/lib/python3.10/dist-packages (from opentelemetry-instrumentation-fastapi>=0.41b0->chromadb->-r /content/Question-Answer-Generation-App-using-Mistral-7B-main/requirements.txt (line 4)) (0.45b0)\n",
            "Requirement already satisfied: opentelemetry-util-http==0.45b0 in /usr/local/lib/python3.10/dist-packages (from opentelemetry-instrumentation-fastapi>=0.41b0->chromadb->-r /content/Question-Answer-Generation-App-using-Mistral-7B-main/requirements.txt (line 4)) (0.45b0)\n",
            "Requirement already satisfied: setuptools>=16.0 in /usr/local/lib/python3.10/dist-packages (from opentelemetry-instrumentation==0.45b0->opentelemetry-instrumentation-fastapi>=0.41b0->chromadb->-r /content/Question-Answer-Generation-App-using-Mistral-7B-main/requirements.txt (line 4)) (67.7.2)\n",
            "Requirement already satisfied: wrapt<2.0.0,>=1.0.0 in /usr/local/lib/python3.10/dist-packages (from opentelemetry-instrumentation==0.45b0->opentelemetry-instrumentation-fastapi>=0.41b0->chromadb->-r /content/Question-Answer-Generation-App-using-Mistral-7B-main/requirements.txt (line 4)) (1.14.1)\n",
            "Requirement already satisfied: asgiref~=3.0 in /usr/local/lib/python3.10/dist-packages (from opentelemetry-instrumentation-asgi==0.45b0->opentelemetry-instrumentation-fastapi>=0.41b0->chromadb->-r /content/Question-Answer-Generation-App-using-Mistral-7B-main/requirements.txt (line 4)) (3.8.1)\n",
            "Requirement already satisfied: pytz>=2020.1 in /usr/local/lib/python3.10/dist-packages (from pandas<3,>=1.3.0->streamlit->-r /content/Question-Answer-Generation-App-using-Mistral-7B-main/requirements.txt (line 6)) (2023.4)\n",
            "Requirement already satisfied: tzdata>=2022.1 in /usr/local/lib/python3.10/dist-packages (from pandas<3,>=1.3.0->streamlit->-r /content/Question-Answer-Generation-App-using-Mistral-7B-main/requirements.txt (line 6)) (2024.1)\n",
            "Requirement already satisfied: monotonic>=1.5 in /usr/local/lib/python3.10/dist-packages (from posthog>=2.4.0->chromadb->-r /content/Question-Answer-Generation-App-using-Mistral-7B-main/requirements.txt (line 4)) (1.6)\n",
            "Requirement already satisfied: backoff>=1.10.0 in /usr/local/lib/python3.10/dist-packages (from posthog>=2.4.0->chromadb->-r /content/Question-Answer-Generation-App-using-Mistral-7B-main/requirements.txt (line 4)) (2.2.1)\n",
            "Requirement already satisfied: annotated-types>=0.4.0 in /usr/local/lib/python3.10/dist-packages (from pydantic<3,>=1->langchain->-r /content/Question-Answer-Generation-App-using-Mistral-7B-main/requirements.txt (line 1)) (0.7.0)\n",
            "Requirement already satisfied: pydantic-core==2.18.2 in /usr/local/lib/python3.10/dist-packages (from pydantic<3,>=1->langchain->-r /content/Question-Answer-Generation-App-using-Mistral-7B-main/requirements.txt (line 1)) (2.18.2)\n",
            "Requirement already satisfied: charset-normalizer<4,>=2 in /usr/local/lib/python3.10/dist-packages (from requests<3,>=2->langchain->-r /content/Question-Answer-Generation-App-using-Mistral-7B-main/requirements.txt (line 1)) (3.3.2)\n",
            "Requirement already satisfied: markdown-it-py>=2.2.0 in /usr/local/lib/python3.10/dist-packages (from rich<14,>=10.14.0->streamlit->-r /content/Question-Answer-Generation-App-using-Mistral-7B-main/requirements.txt (line 6)) (3.0.0)\n",
            "Requirement already satisfied: pygments<3.0.0,>=2.13.0 in /usr/local/lib/python3.10/dist-packages (from rich<14,>=10.14.0->streamlit->-r /content/Question-Answer-Generation-App-using-Mistral-7B-main/requirements.txt (line 6)) (2.16.1)\n",
            "Requirement already satisfied: greenlet!=0.4.17 in /usr/local/lib/python3.10/dist-packages (from SQLAlchemy<3,>=1.4->langchain->-r /content/Question-Answer-Generation-App-using-Mistral-7B-main/requirements.txt (line 1)) (3.0.3)\n",
            "Requirement already satisfied: networkx in /usr/local/lib/python3.10/dist-packages (from torch>=1.11.0->sentence_transformers->-r /content/Question-Answer-Generation-App-using-Mistral-7B-main/requirements.txt (line 3)) (3.3)\n",
            "Requirement already satisfied: nvidia-cuda-nvrtc-cu12==12.1.105 in /usr/local/lib/python3.10/dist-packages (from torch>=1.11.0->sentence_transformers->-r /content/Question-Answer-Generation-App-using-Mistral-7B-main/requirements.txt (line 3)) (12.1.105)\n",
            "Requirement already satisfied: nvidia-cuda-runtime-cu12==12.1.105 in /usr/local/lib/python3.10/dist-packages (from torch>=1.11.0->sentence_transformers->-r /content/Question-Answer-Generation-App-using-Mistral-7B-main/requirements.txt (line 3)) (12.1.105)\n",
            "Requirement already satisfied: nvidia-cuda-cupti-cu12==12.1.105 in /usr/local/lib/python3.10/dist-packages (from torch>=1.11.0->sentence_transformers->-r /content/Question-Answer-Generation-App-using-Mistral-7B-main/requirements.txt (line 3)) (12.1.105)\n",
            "Requirement already satisfied: nvidia-cudnn-cu12==8.9.2.26 in /usr/local/lib/python3.10/dist-packages (from torch>=1.11.0->sentence_transformers->-r /content/Question-Answer-Generation-App-using-Mistral-7B-main/requirements.txt (line 3)) (8.9.2.26)\n",
            "Requirement already satisfied: nvidia-cublas-cu12==12.1.3.1 in /usr/local/lib/python3.10/dist-packages (from torch>=1.11.0->sentence_transformers->-r /content/Question-Answer-Generation-App-using-Mistral-7B-main/requirements.txt (line 3)) (12.1.3.1)\n",
            "Requirement already satisfied: nvidia-cufft-cu12==11.0.2.54 in /usr/local/lib/python3.10/dist-packages (from torch>=1.11.0->sentence_transformers->-r /content/Question-Answer-Generation-App-using-Mistral-7B-main/requirements.txt (line 3)) (11.0.2.54)\n",
            "Requirement already satisfied: nvidia-curand-cu12==10.3.2.106 in /usr/local/lib/python3.10/dist-packages (from torch>=1.11.0->sentence_transformers->-r /content/Question-Answer-Generation-App-using-Mistral-7B-main/requirements.txt (line 3)) (10.3.2.106)\n",
            "Requirement already satisfied: nvidia-cusolver-cu12==11.4.5.107 in /usr/local/lib/python3.10/dist-packages (from torch>=1.11.0->sentence_transformers->-r /content/Question-Answer-Generation-App-using-Mistral-7B-main/requirements.txt (line 3)) (11.4.5.107)\n",
            "Requirement already satisfied: nvidia-cusparse-cu12==12.1.0.106 in /usr/local/lib/python3.10/dist-packages (from torch>=1.11.0->sentence_transformers->-r /content/Question-Answer-Generation-App-using-Mistral-7B-main/requirements.txt (line 3)) (12.1.0.106)\n",
            "Requirement already satisfied: nvidia-nccl-cu12==2.20.5 in /usr/local/lib/python3.10/dist-packages (from torch>=1.11.0->sentence_transformers->-r /content/Question-Answer-Generation-App-using-Mistral-7B-main/requirements.txt (line 3)) (2.20.5)\n",
            "Requirement already satisfied: nvidia-nvtx-cu12==12.1.105 in /usr/local/lib/python3.10/dist-packages (from torch>=1.11.0->sentence_transformers->-r /content/Question-Answer-Generation-App-using-Mistral-7B-main/requirements.txt (line 3)) (12.1.105)\n",
            "Requirement already satisfied: triton==2.3.0 in /usr/local/lib/python3.10/dist-packages (from torch>=1.11.0->sentence_transformers->-r /content/Question-Answer-Generation-App-using-Mistral-7B-main/requirements.txt (line 3)) (2.3.0)\n",
            "Requirement already satisfied: nvidia-nvjitlink-cu12 in /usr/local/lib/python3.10/dist-packages (from nvidia-cusolver-cu12==11.4.5.107->torch>=1.11.0->sentence_transformers->-r /content/Question-Answer-Generation-App-using-Mistral-7B-main/requirements.txt (line 3)) (12.5.40)\n",
            "Requirement already satisfied: regex!=2019.12.17 in /usr/local/lib/python3.10/dist-packages (from transformers<5.0.0,>=4.34.0->sentence_transformers->-r /content/Question-Answer-Generation-App-using-Mistral-7B-main/requirements.txt (line 3)) (2023.12.25)\n",
            "Requirement already satisfied: safetensors>=0.4.1 in /usr/local/lib/python3.10/dist-packages (from transformers<5.0.0,>=4.34.0->sentence_transformers->-r /content/Question-Answer-Generation-App-using-Mistral-7B-main/requirements.txt (line 3)) (0.4.3)\n",
            "Requirement already satisfied: shellingham>=1.3.0 in /usr/local/lib/python3.10/dist-packages (from typer>=0.9.0->chromadb->-r /content/Question-Answer-Generation-App-using-Mistral-7B-main/requirements.txt (line 4)) (1.5.4)\n",
            "Requirement already satisfied: httptools>=0.5.0 in /usr/local/lib/python3.10/dist-packages (from uvicorn[standard]>=0.18.3->chromadb->-r /content/Question-Answer-Generation-App-using-Mistral-7B-main/requirements.txt (line 4)) (0.6.1)\n",
            "Requirement already satisfied: python-dotenv>=0.13 in /usr/local/lib/python3.10/dist-packages (from uvicorn[standard]>=0.18.3->chromadb->-r /content/Question-Answer-Generation-App-using-Mistral-7B-main/requirements.txt (line 4)) (1.0.1)\n",
            "Requirement already satisfied: uvloop!=0.15.0,!=0.15.1,>=0.14.0 in /usr/local/lib/python3.10/dist-packages (from uvicorn[standard]>=0.18.3->chromadb->-r /content/Question-Answer-Generation-App-using-Mistral-7B-main/requirements.txt (line 4)) (0.19.0)\n",
            "Requirement already satisfied: watchfiles>=0.13 in /usr/local/lib/python3.10/dist-packages (from uvicorn[standard]>=0.18.3->chromadb->-r /content/Question-Answer-Generation-App-using-Mistral-7B-main/requirements.txt (line 4)) (0.21.0)\n",
            "Requirement already satisfied: websockets>=10.4 in /usr/local/lib/python3.10/dist-packages (from uvicorn[standard]>=0.18.3->chromadb->-r /content/Question-Answer-Generation-App-using-Mistral-7B-main/requirements.txt (line 4)) (12.0)\n",
            "Requirement already satisfied: joblib>=1.1.1 in /usr/local/lib/python3.10/dist-packages (from scikit-learn->sentence_transformers->-r /content/Question-Answer-Generation-App-using-Mistral-7B-main/requirements.txt (line 3)) (1.4.2)\n",
            "Requirement already satisfied: threadpoolctl>=2.0.0 in /usr/local/lib/python3.10/dist-packages (from scikit-learn->sentence_transformers->-r /content/Question-Answer-Generation-App-using-Mistral-7B-main/requirements.txt (line 3)) (3.5.0)\n",
            "Requirement already satisfied: exceptiongroup in /usr/local/lib/python3.10/dist-packages (from anyio->httpx>=0.23.0->fastapi->-r /content/Question-Answer-Generation-App-using-Mistral-7B-main/requirements.txt (line 7)) (1.2.1)\n",
            "Requirement already satisfied: smmap<6,>=3.0.1 in /usr/local/lib/python3.10/dist-packages (from gitdb<5,>=4.0.1->gitpython!=3.1.19,<4,>=3.0.7->streamlit->-r /content/Question-Answer-Generation-App-using-Mistral-7B-main/requirements.txt (line 6)) (5.0.1)\n",
            "Requirement already satisfied: pyasn1-modules>=0.2.1 in /usr/local/lib/python3.10/dist-packages (from google-auth>=1.0.1->kubernetes>=28.1.0->chromadb->-r /content/Question-Answer-Generation-App-using-Mistral-7B-main/requirements.txt (line 4)) (0.4.0)\n",
            "Requirement already satisfied: rsa<5,>=3.1.4 in /usr/local/lib/python3.10/dist-packages (from google-auth>=1.0.1->kubernetes>=28.1.0->chromadb->-r /content/Question-Answer-Generation-App-using-Mistral-7B-main/requirements.txt (line 4)) (4.9)\n",
            "Requirement already satisfied: zipp>=0.5 in /usr/local/lib/python3.10/dist-packages (from importlib-metadata<=7.0,>=6.0->opentelemetry-api>=1.2.0->chromadb->-r /content/Question-Answer-Generation-App-using-Mistral-7B-main/requirements.txt (line 4)) (3.18.2)\n",
            "Requirement already satisfied: jsonpointer>=1.9 in /usr/local/lib/python3.10/dist-packages (from jsonpatch<2.0,>=1.33->langchain-core<0.3.0,>=0.2.0->langchain->-r /content/Question-Answer-Generation-App-using-Mistral-7B-main/requirements.txt (line 1)) (2.4)\n",
            "Requirement already satisfied: jsonschema-specifications>=2023.03.6 in /usr/local/lib/python3.10/dist-packages (from jsonschema>=3.0->altair<6,>=4.0->streamlit->-r /content/Question-Answer-Generation-App-using-Mistral-7B-main/requirements.txt (line 6)) (2023.12.1)\n",
            "Requirement already satisfied: referencing>=0.28.4 in /usr/local/lib/python3.10/dist-packages (from jsonschema>=3.0->altair<6,>=4.0->streamlit->-r /content/Question-Answer-Generation-App-using-Mistral-7B-main/requirements.txt (line 6)) (0.35.1)\n",
            "Requirement already satisfied: rpds-py>=0.7.1 in /usr/local/lib/python3.10/dist-packages (from jsonschema>=3.0->altair<6,>=4.0->streamlit->-r /content/Question-Answer-Generation-App-using-Mistral-7B-main/requirements.txt (line 6)) (0.18.1)\n",
            "Requirement already satisfied: mdurl~=0.1 in /usr/local/lib/python3.10/dist-packages (from markdown-it-py>=2.2.0->rich<14,>=10.14.0->streamlit->-r /content/Question-Answer-Generation-App-using-Mistral-7B-main/requirements.txt (line 6)) (0.1.2)\n",
            "Requirement already satisfied: humanfriendly>=9.1 in /usr/local/lib/python3.10/dist-packages (from coloredlogs->onnxruntime>=1.14.1->chromadb->-r /content/Question-Answer-Generation-App-using-Mistral-7B-main/requirements.txt (line 4)) (10.0)\n",
            "Requirement already satisfied: mpmath>=0.19 in /usr/local/lib/python3.10/dist-packages (from sympy->onnxruntime>=1.14.1->chromadb->-r /content/Question-Answer-Generation-App-using-Mistral-7B-main/requirements.txt (line 4)) (1.3.0)\n",
            "Requirement already satisfied: pyasn1<0.7.0,>=0.4.6 in /usr/local/lib/python3.10/dist-packages (from pyasn1-modules>=0.2.1->google-auth>=1.0.1->kubernetes>=28.1.0->chromadb->-r /content/Question-Answer-Generation-App-using-Mistral-7B-main/requirements.txt (line 4)) (0.6.0)\n"
          ]
        }
      ]
    },
    {
      "cell_type": "code",
      "source": [
        "!pip install langchain_community"
      ],
      "metadata": {
        "colab": {
          "base_uri": "https://localhost:8080/"
        },
        "id": "kAackG28bGvQ",
        "outputId": "1436da3d-3ba2-4a9f-832a-8c925a2a74f5"
      },
      "execution_count": null,
      "outputs": [
        {
          "output_type": "stream",
          "name": "stdout",
          "text": [
            "Requirement already satisfied: langchain_community in /usr/local/lib/python3.10/dist-packages (0.2.1)\n",
            "Requirement already satisfied: PyYAML>=5.3 in /usr/local/lib/python3.10/dist-packages (from langchain_community) (6.0.1)\n",
            "Requirement already satisfied: SQLAlchemy<3,>=1.4 in /usr/local/lib/python3.10/dist-packages (from langchain_community) (2.0.30)\n",
            "Requirement already satisfied: aiohttp<4.0.0,>=3.8.3 in /usr/local/lib/python3.10/dist-packages (from langchain_community) (3.9.5)\n",
            "Requirement already satisfied: dataclasses-json<0.7,>=0.5.7 in /usr/local/lib/python3.10/dist-packages (from langchain_community) (0.6.6)\n",
            "Requirement already satisfied: langchain<0.3.0,>=0.2.0 in /usr/local/lib/python3.10/dist-packages (from langchain_community) (0.2.1)\n",
            "Requirement already satisfied: langchain-core<0.3.0,>=0.2.0 in /usr/local/lib/python3.10/dist-packages (from langchain_community) (0.2.1)\n",
            "Requirement already satisfied: langsmith<0.2.0,>=0.1.0 in /usr/local/lib/python3.10/dist-packages (from langchain_community) (0.1.63)\n",
            "Requirement already satisfied: numpy<2,>=1 in /usr/local/lib/python3.10/dist-packages (from langchain_community) (1.25.2)\n",
            "Requirement already satisfied: requests<3,>=2 in /usr/local/lib/python3.10/dist-packages (from langchain_community) (2.31.0)\n",
            "Requirement already satisfied: tenacity<9.0.0,>=8.1.0 in /usr/local/lib/python3.10/dist-packages (from langchain_community) (8.3.0)\n",
            "Requirement already satisfied: aiosignal>=1.1.2 in /usr/local/lib/python3.10/dist-packages (from aiohttp<4.0.0,>=3.8.3->langchain_community) (1.3.1)\n",
            "Requirement already satisfied: attrs>=17.3.0 in /usr/local/lib/python3.10/dist-packages (from aiohttp<4.0.0,>=3.8.3->langchain_community) (23.2.0)\n",
            "Requirement already satisfied: frozenlist>=1.1.1 in /usr/local/lib/python3.10/dist-packages (from aiohttp<4.0.0,>=3.8.3->langchain_community) (1.4.1)\n",
            "Requirement already satisfied: multidict<7.0,>=4.5 in /usr/local/lib/python3.10/dist-packages (from aiohttp<4.0.0,>=3.8.3->langchain_community) (6.0.5)\n",
            "Requirement already satisfied: yarl<2.0,>=1.0 in /usr/local/lib/python3.10/dist-packages (from aiohttp<4.0.0,>=3.8.3->langchain_community) (1.9.4)\n",
            "Requirement already satisfied: async-timeout<5.0,>=4.0 in /usr/local/lib/python3.10/dist-packages (from aiohttp<4.0.0,>=3.8.3->langchain_community) (4.0.3)\n",
            "Requirement already satisfied: marshmallow<4.0.0,>=3.18.0 in /usr/local/lib/python3.10/dist-packages (from dataclasses-json<0.7,>=0.5.7->langchain_community) (3.21.2)\n",
            "Requirement already satisfied: typing-inspect<1,>=0.4.0 in /usr/local/lib/python3.10/dist-packages (from dataclasses-json<0.7,>=0.5.7->langchain_community) (0.9.0)\n",
            "Requirement already satisfied: langchain-text-splitters<0.3.0,>=0.2.0 in /usr/local/lib/python3.10/dist-packages (from langchain<0.3.0,>=0.2.0->langchain_community) (0.2.0)\n",
            "Requirement already satisfied: pydantic<3,>=1 in /usr/local/lib/python3.10/dist-packages (from langchain<0.3.0,>=0.2.0->langchain_community) (2.7.1)\n",
            "Requirement already satisfied: jsonpatch<2.0,>=1.33 in /usr/local/lib/python3.10/dist-packages (from langchain-core<0.3.0,>=0.2.0->langchain_community) (1.33)\n",
            "Requirement already satisfied: packaging<24.0,>=23.2 in /usr/local/lib/python3.10/dist-packages (from langchain-core<0.3.0,>=0.2.0->langchain_community) (23.2)\n",
            "Requirement already satisfied: orjson<4.0.0,>=3.9.14 in /usr/local/lib/python3.10/dist-packages (from langsmith<0.2.0,>=0.1.0->langchain_community) (3.10.3)\n",
            "Requirement already satisfied: charset-normalizer<4,>=2 in /usr/local/lib/python3.10/dist-packages (from requests<3,>=2->langchain_community) (3.3.2)\n",
            "Requirement already satisfied: idna<4,>=2.5 in /usr/local/lib/python3.10/dist-packages (from requests<3,>=2->langchain_community) (3.7)\n",
            "Requirement already satisfied: urllib3<3,>=1.21.1 in /usr/local/lib/python3.10/dist-packages (from requests<3,>=2->langchain_community) (2.0.7)\n",
            "Requirement already satisfied: certifi>=2017.4.17 in /usr/local/lib/python3.10/dist-packages (from requests<3,>=2->langchain_community) (2024.2.2)\n",
            "Requirement already satisfied: typing-extensions>=4.6.0 in /usr/local/lib/python3.10/dist-packages (from SQLAlchemy<3,>=1.4->langchain_community) (4.11.0)\n",
            "Requirement already satisfied: greenlet!=0.4.17 in /usr/local/lib/python3.10/dist-packages (from SQLAlchemy<3,>=1.4->langchain_community) (3.0.3)\n",
            "Requirement already satisfied: jsonpointer>=1.9 in /usr/local/lib/python3.10/dist-packages (from jsonpatch<2.0,>=1.33->langchain-core<0.3.0,>=0.2.0->langchain_community) (2.4)\n",
            "Requirement already satisfied: annotated-types>=0.4.0 in /usr/local/lib/python3.10/dist-packages (from pydantic<3,>=1->langchain<0.3.0,>=0.2.0->langchain_community) (0.7.0)\n",
            "Requirement already satisfied: pydantic-core==2.18.2 in /usr/local/lib/python3.10/dist-packages (from pydantic<3,>=1->langchain<0.3.0,>=0.2.0->langchain_community) (2.18.2)\n",
            "Requirement already satisfied: mypy-extensions>=0.3.0 in /usr/local/lib/python3.10/dist-packages (from typing-inspect<1,>=0.4.0->dataclasses-json<0.7,>=0.5.7->langchain_community) (1.0.0)\n"
          ]
        }
      ]
    },
    {
      "cell_type": "code",
      "source": [
        "!pip install pypdf"
      ],
      "metadata": {
        "colab": {
          "base_uri": "https://localhost:8080/"
        },
        "id": "V0pRfKHJbKId",
        "outputId": "ea331cce-de5f-47ef-abbb-c886d68f922e"
      },
      "execution_count": null,
      "outputs": [
        {
          "output_type": "stream",
          "name": "stdout",
          "text": [
            "Requirement already satisfied: pypdf in /usr/local/lib/python3.10/dist-packages (4.2.0)\n",
            "Requirement already satisfied: typing_extensions>=4.0 in /usr/local/lib/python3.10/dist-packages (from pypdf) (4.11.0)\n"
          ]
        }
      ]
    },
    {
      "cell_type": "code",
      "source": [
        "!mkdir static"
      ],
      "metadata": {
        "id": "n-AZ8K2qlu0a"
      },
      "execution_count": null,
      "outputs": []
    },
    {
      "cell_type": "code",
      "source": [
        "!python /content/Question-Answer-Generation-App-using-Mistral-7B-main/app.py"
      ],
      "metadata": {
        "colab": {
          "base_uri": "https://localhost:8080/"
        },
        "id": "Ikeg-TJtbMYt",
        "outputId": "5cb753b5-02e4-4fee-d0a9-077e9ed70de3"
      },
      "execution_count": null,
      "outputs": [
        {
          "output_type": "stream",
          "name": "stdout",
          "text": [
            "/usr/local/lib/python3.10/dist-packages/huggingface_hub/file_download.py:1132: FutureWarning: `resume_download` is deprecated and will be removed in version 1.0.0. Downloads always resume when possible. If you want to force a new download, use `force_download=True`.\n",
            "  warnings.warn(\n",
            "/usr/local/lib/python3.10/dist-packages/langchain_core/_api/deprecation.py:119: LangChainDeprecationWarning: The method `Chain.run` was deprecated in langchain 0.1.0 and will be removed in 0.3.0. Use invoke instead.\n",
            "  warn_deprecated(\n",
            "\n",
            "\n",
            "\u001b[1m> Entering new RefineDocumentsChain chain...\u001b[0m\n",
            "\n",
            "\n",
            "\u001b[1m> Entering new LLMChain chain...\u001b[0m\n",
            "Prompt after formatting:\n",
            "\u001b[32;1m\u001b[1;3m\n",
            "    You are an expert at creating questions based on coding materials and documentation.\n",
            "    Your goal is to prepare a coder or programmer for their exam and coding tests.\n",
            "    You do this by asking questions about the text below:\n",
            "\n",
            "    ------------\n",
            "    Someone standing outside the Great Hall might well have thought some  \n",
            "sort of explosion had taken place, so loud was the noise that erupted  \n",
            "from the Gryffindor table. Harry, Ron, and Hermione stood up to yell and  \n",
            "cheer as Neville, white with shock, disappeared under a pile of people  \n",
            "hugging him. He had never won so much as a point for Gryffindor before.  \n",
            "Harry, still cheering, nudged Ron in the ribs and pointed at Malfoy, who  \n",
            "couldn't have looked more stunned and horrified if he'd just had the  \n",
            "Body-Bind Curse put on him.\n",
            "    ------------\n",
            "\n",
            "    Create questions that will prepare the coders or programmers for their tests.\n",
            "    Make sure not to lose any important information.\n",
            "\n",
            "    QUESTIONS:\n",
            "    \u001b[0m\n",
            "\n",
            "\u001b[1m> Finished chain.\u001b[0m\n",
            "\n",
            "\u001b[1m> Finished chain.\u001b[0m\n",
            "Length   : 19\n",
            "Question:  1. What event was described as being so loud in the Great Hall?\n",
            "Answer:   The event that was so loud in the Great Hall was when Neville disappeared under a pile of people hugging him.\n",
            "--------------------------------------------------\n",
            "\n",
            "\n",
            "Question:          A. A bomb had exploded on a Gryffindor table.\n",
            "Answer:      C. Neville had won Gryffindor his first points.\n",
            "--------------------------------------------------\n",
            "\n",
            "\n",
            "Question:          B. Neville's disappearance under a pile of people hugging him.\n",
            "Answer:    Yes, that is correct.\n",
            "--------------------------------------------------\n",
            "\n",
            "\n",
            "Question:          C. Malfoy looking horrified and stunned.\n",
            "Answer:      Yes, that's the correct answer.\n",
            "--------------------------------------------------\n",
            "\n",
            "\n",
            "Question:      2. Who stood up to yell and cheer as Neville disappeared?\n",
            "Answer:   Harry, Ron, and Hermione stood up to yell and cheer as Neville disappeared.\n",
            "--------------------------------------------------\n",
            "\n",
            "\n",
            "Question:          A. Harry, Ron, and Hermione.\n",
            "Answer:     C. Someone standing outside the Great Hall.\n",
            "--------------------------------------------------\n",
            "\n",
            "\n",
            "Question:          B. The entire Great Hall.\n",
            "Answer:     F. Gryffindor table.\n",
            "--------------------------------------------------\n",
            "\n",
            "\n",
            "Question:          C. Only Neville.\n",
            "Answer:   Harry, Ron, and Hermione stood up to yell and cheer as Neville disappeared under a pile of people hugging him. Neville had never won so much as a point for Gryffindor before, and he was white with shock. Harry, still cheering, nudged Ron in the ribs and pointed at Malfoy, who looked stunned and horrified if he'd just had the Body-Bind Curse put on him.\n",
            "--------------------------------------------------\n",
            "\n",
            "\n",
            "Question:      3. What did Neville win for Gryffindor before this event?\n",
            "Answer:       3. Neville won 10 points for Gryffindor before this event.\n",
            "--------------------------------------------------\n",
            "\n",
            "\n",
            "Question:          A. No points.\n",
            "Answer:    C. Malfoy had never won a point before.\n",
            "--------------------------------------------------\n",
            "\n",
            "\n",
            "Generated QA pairs saved in CSV: static/output/QA.csv\n"
          ]
        }
      ]
    }
  ]
}